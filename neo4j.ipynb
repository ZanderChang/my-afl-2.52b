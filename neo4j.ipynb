{
 "cells": [
  {
   "cell_type": "code",
   "execution_count": 11,
   "metadata": {},
   "outputs": [],
   "source": [
    "import base64\n",
    "import os\n",
    "from tqdm import tqdm\n",
    "from py2neo import Graph\n",
    "\n",
    "PASS_LOG = r'/data2/zhangzheng1/data/code/exiv2-0.26/PASS_LOG'\n",
    "RUNTIME_LOG = r'/data2/zhangzheng1/data/code/exiv2-0.26/PASS_LOG/RUNTIME_LOG'\n",
    "CMP_CALLS = [\"strcmp\", \"strncmp\", \"strcasecmp\", \"strncasecmp\", \"memcmp\"]\n",
    "PROJECT = 'exiv2'\n",
    "VERSION = 0.26"
   ]
  },
  {
   "cell_type": "code",
   "execution_count": 12,
   "metadata": {},
   "outputs": [],
   "source": [
    "with open('./PASSWORD', 'r') as fp:\n",
    "    data = fp.read().strip().replace('\\n', '')\n",
    "    passwd = base64.b64decode(data).decode()"
   ]
  },
  {
   "cell_type": "code",
   "execution_count": 13,
   "metadata": {},
   "outputs": [
    {
     "name": "stderr",
     "output_type": "stream",
     "text": [
      "100%|██████████| 72/72 [00:00<00:00, 171.03it/s]\n"
     ]
    }
   ],
   "source": [
    "modSet = set() # 全部模块\n",
    "funcSet = set() # 全部函数\n",
    "blkSet = set() # 全部基本块\n",
    "mod2func = {} # 模块m: m中的全部函数\n",
    "func2blk = {} # 函数f：f的全部IR基本块 1:n（f为完整名称）\n",
    "blk2call = {} # 基本块b：b中调用的全部函数f 1:n（b为完整名称）\n",
    "blk2succ = {} # 基本块b：b所有的后续基本块（b为完整名称）\n",
    "func2call = {} # 函数f：f调用的全部函数 1:n（f为完整名称）\n",
    "func2cmp = {} # 函数f：f调用的全部cmp函数 1:n（f为完整名称）\n",
    "curFunc = None\n",
    "curBB = None\n",
    "isInHis = False # 当前函数是否已在funcSet中（防止重复处理）\n",
    "\n",
    "for f in tqdm(os.listdir(PASS_LOG)):\n",
    "    if f == 'RUNTIME_LOG':\n",
    "        continue\n",
    "    with open(os.path.join(PASS_LOG, f), 'r') as fp:\n",
    "        m = f[:-4]\n",
    "        modSet.add(m) # modSet\n",
    "        assert m not in mod2func, '[!] {} {}'.format(f, m)\n",
    "        mod2func[m] = []\n",
    "        lines = fp.readlines()\n",
    "        for line in lines:\n",
    "            line = line[:-1] # 去掉末尾的\\n\n",
    "            if '[F] ' in line:\n",
    "                curFunc = m + '|' + line[4:] # moduleName|funcName\n",
    "                if curFunc not in funcSet:\n",
    "                    funcSet.add(curFunc) # funcSet\n",
    "                    mod2func[m].append(line[4:]) # mod2func\n",
    "                else:\n",
    "                    raise Exception(\"[!] {}\".format(line)) # 同文件中函数重名？\n",
    "            elif '[BB] ' in line:\n",
    "                bbName = line.split(' ')[-1].split('|')[0]\n",
    "                if curFunc not in func2blk:\n",
    "                    func2blk[curFunc] = []\n",
    "                func2blk[curFunc].append(bbName) # func2blk\n",
    "                curBB = curFunc + '|' + bbName\n",
    "                blkSet.add(curBB) # blkSet\n",
    "                assert curBB not in blk2succ, '[!] {} {}'.format(curBB, line)\n",
    "                blk2succ[curBB] = line.split(' ')[-1].split('|')[1:] # blk2succ\n",
    "            elif '[BBC] ' in line:\n",
    "                bbCallFuncName = line[6:]\n",
    "                if curBB not in blk2call:\n",
    "                    blk2call[curBB] = []\n",
    "                blk2call[curBB].append(bbCallFuncName) # blk2call\n",
    "                if curFunc not in func2call:\n",
    "                    func2call[curFunc] = []\n",
    "                func2call[curFunc].append(bbCallFuncName) # func2call\n",
    "            elif any([n in line for n in CMP_CALLS]):\n",
    "                if curFunc not in func2cmp:\n",
    "                    func2cmp[curFunc] = []\n",
    "                func2cmp[curFunc].append(line) # func2cmp\n",
    "            else:\n",
    "#                 raise Exception(\"[!] {}\".format(line))\n",
    "                print(\"[!] {} {} {} {}\".format(f, curFunc, curBB, line))"
   ]
  },
  {
   "cell_type": "code",
   "execution_count": 19,
   "metadata": {},
   "outputs": [
    {
     "data": {
      "text/plain": [
       "<py2neo.database.Cursor at 0x7f9b9a8a7fd0>"
      ]
     },
     "execution_count": 19,
     "metadata": {},
     "output_type": "execute_result"
    }
   ],
   "source": [
    "from py2neo import Graph\n",
    "graph = Graph(\"bolt://127.0.0.1:7687\", username=\"neo4j\", password=passwd)\n",
    "graph.run('MATCH ()-[r]->() DELETE r')\n",
    "graph.run('MATCH (n) DELETE n')"
   ]
  },
  {
   "cell_type": "markdown",
   "metadata": {},
   "source": [
    "导入静态分析的结果"
   ]
  },
  {
   "cell_type": "code",
   "execution_count": 20,
   "metadata": {},
   "outputs": [
    {
     "data": {
      "text/plain": [
       "<py2neo.database.Cursor at 0x7f9b9a9456d0>"
      ]
     },
     "execution_count": 20,
     "metadata": {},
     "output_type": "execute_result"
    }
   ],
   "source": [
    "graph.run('MERGE (:Project {{ name:\"{}\", version:\"{}\" }})'.format(PROJECT, VERSION))"
   ]
  },
  {
   "cell_type": "code",
   "execution_count": 21,
   "metadata": {},
   "outputs": [
    {
     "name": "stderr",
     "output_type": "stream",
     "text": [
      "100%|██████████| 71/71 [00:01<00:00, 39.42it/s]\n"
     ]
    }
   ],
   "source": [
    "for m in tqdm(mod2func):\n",
    "    graph.run('MERGE (:Module {{ name:\"{}\", inProject:\"{}\" }})'.format(m, PROJECT))\n",
    "    graph.run('MATCH (p:Project {{ name:\"{}\", version:\"{}\" }}), (m:Module {{ name:\"{}\", inProject:\"{}\" }}) MERGE (p)-[:hasModule]->(m)'.format(PROJECT, VERSION, m, PROJECT))"
   ]
  },
  {
   "cell_type": "code",
   "execution_count": 22,
   "metadata": {},
   "outputs": [
    {
     "name": "stderr",
     "output_type": "stream",
     "text": [
      "100%|██████████| 71/71 [05:20<00:00,  4.52s/it]\n"
     ]
    }
   ],
   "source": [
    "for m in tqdm(mod2func):\n",
    "    for f in mod2func[m]:\n",
    "        graph.run('MERGE (:Function {{ name:\"{}\", inProject:\"{}\", inModule:\"{}\" }})'.format(f, PROJECT, m))\n",
    "        graph.run('MATCH (m:Module {{ name:\"{0}\", inProject:\"{1}\" }}), (f:Function {{ name:\"{2}\", inProject:\"{1}\", inModule:\"{0}\" }}) MERGE (m)-[:hasFunction]->(f)'.format(m, PROJECT, f))"
   ]
  },
  {
   "cell_type": "code",
   "execution_count": null,
   "metadata": {},
   "outputs": [],
   "source": []
  }
 ],
 "metadata": {
  "kernelspec": {
   "display_name": "Python 3",
   "language": "python",
   "name": "python3"
  },
  "language_info": {
   "codemirror_mode": {
    "name": "ipython",
    "version": 3
   },
   "file_extension": ".py",
   "mimetype": "text/x-python",
   "name": "python",
   "nbconvert_exporter": "python",
   "pygments_lexer": "ipython3",
   "version": "3.7.6"
  }
 },
 "nbformat": 4,
 "nbformat_minor": 4
}
