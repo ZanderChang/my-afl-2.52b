{
 "cells": [
  {
   "cell_type": "code",
   "execution_count": 299,
   "metadata": {},
   "outputs": [],
   "source": [
    "import os\n",
    "from tqdm import tqdm"
   ]
  },
  {
   "cell_type": "code",
   "execution_count": 300,
   "metadata": {},
   "outputs": [],
   "source": [
    "PASS_LOG = r'/data2/zhangzheng1/data/code/exiv2-0.26/PASS_LOG'\n",
    "CMP_CALLS = [\"strcmp\", \"strncmp\", \"strcasecmp\", \"strncasecmp\", \"memcmp\"]"
   ]
  },
  {
   "cell_type": "code",
   "execution_count": 301,
   "metadata": {},
   "outputs": [],
   "source": [
    "class BasicBlock:\n",
    "    def __init__(self, name):\n",
    "        self.name = name\n",
    "        self.successors = []\n",
    "        self.calls = []\n",
    "    \n",
    "    def addSuccessor(self, BB):\n",
    "        assert isinstance(BB, BasicBlock)\n",
    "        self.successors.append(BB)"
   ]
  },
  {
   "cell_type": "code",
   "execution_count": 302,
   "metadata": {},
   "outputs": [
    {
     "name": "stderr",
     "output_type": "stream",
     "text": [
      "100%|██████████| 72/72 [00:01<00:00, 38.72it/s]\n"
     ]
    }
   ],
   "source": [
    "modSet = set() # 全部模块\n",
    "funcSet = set() # 全部函数\n",
    "blkSet = set() # 全部基本块\n",
    "mod2func = {} # 模块m: m中的全部函数\n",
    "func2loc = {} # 函数f：f在源代码所在行（f为完整名称）\n",
    "func2blk = {} # 函数f：f的全部IR基本块 1:n（f为完整名称）\n",
    "blk2call = {} # 基本块b：b中调用的全部函数f 1:n（b为完整名称）\n",
    "blk2succ = {} # 基本块b：b所有的后续基本块（b为完整名称）\n",
    "blk2IRs = {} # 基本块b：b所有IR指令对应的源码位置集合（源码行位置|源码列位置）（b为完整名称）\n",
    "func2call = {} # 函数f：f调用的全部函数 1:n（f为完整名称）\n",
    "func2cmp = {} # 函数f：f调用的全部cmp函数 1:n（f为完整名称）\n",
    "curFunc = None\n",
    "curBB = None\n",
    "isInHis = False # 当前函数是否已在funcSet中（防止重复处理）\n",
    "\n",
    "for f in tqdm(os.listdir(PASS_LOG)):\n",
    "    if f == 'RUNTIME_LOG':\n",
    "        continue\n",
    "    with open(os.path.join(PASS_LOG, f), 'r') as fp:\n",
    "        m = f[:-4]\n",
    "        modSet.add(m) # modSet\n",
    "        assert m not in mod2func, '[!] {} {}'.format(f, m)\n",
    "        mod2func[m] = []\n",
    "        lines = fp.readlines()\n",
    "        for line in lines:\n",
    "            line = line[:-1] # 去掉末尾的\\n\n",
    "            if '[F] ' in line:\n",
    "                f, lineNum = line[4:].split(' ')\n",
    "                curFunc = m + '|' + f # moduleName|funcName\n",
    "                if curFunc not in funcSet:\n",
    "                    funcSet.add(curFunc) # funcSet\n",
    "                    mod2func[m].append(f) # mod2func\n",
    "                    func2loc[curFunc] = int(lineNum) # func2loc\n",
    "                else:\n",
    "                    raise Exception(\"[!] {}\".format(line)) # 同文件中函数重名？\n",
    "            elif '[BB] ' in line:\n",
    "                bbName = line.split(' ')[-1].split('|')[0]\n",
    "                if curFunc not in func2blk:\n",
    "                    func2blk[curFunc] = []\n",
    "                func2blk[curFunc].append(bbName) # func2blk\n",
    "                curBB = curFunc + '|' + bbName\n",
    "                blkSet.add(curBB) # blkSet\n",
    "                assert curBB not in blk2succ, '[!] {} {}'.format(curBB, line)\n",
    "                blk2succ[curBB] = line.split(' ')[-1].split('|')[1:] # blk2succ\n",
    "            elif '[I] ' in line:\n",
    "                loc = line.split(' ')[-1]\n",
    "                if curBB not in blk2IRs:\n",
    "                    blk2IRs[curBB] = set()\n",
    "                blk2IRs[curBB].add(loc) # blk2IRs\n",
    "            elif '[BBC] ' in line:\n",
    "                bbCallFuncName = line[6:]\n",
    "                if curBB not in blk2call:\n",
    "                    blk2call[curBB] = []\n",
    "                blk2call[curBB].append(bbCallFuncName) # blk2call\n",
    "                if curFunc not in func2call:\n",
    "                    func2call[curFunc] = []\n",
    "                func2call[curFunc].append(bbCallFuncName) # func2call\n",
    "            elif any([n in line for n in CMP_CALLS]):\n",
    "                if curFunc not in func2cmp:\n",
    "                    func2cmp[curFunc] = []\n",
    "                func2cmp[curFunc].append(line) # func2cmp\n",
    "            else:\n",
    "#                 raise Exception(\"[!] {}\".format(line))\n",
    "                print(\"[!] {} {} {} {}\".format(f, curFunc, curBB, line))"
   ]
  },
  {
   "cell_type": "markdown",
   "metadata": {},
   "source": [
    "根据`func2blk`和`blk2succ`构建每个函数的CFG图"
   ]
  },
  {
   "cell_type": "code",
   "execution_count": 162,
   "metadata": {},
   "outputs": [
    {
     "name": "stderr",
     "output_type": "stream",
     "text": [
      "100%|██████████| 4321/4321 [00:00<00:00, 4328.38it/s] \n"
     ]
    }
   ],
   "source": [
    "func2bb = {} # 函数f：f对应的起始BasicBlock\n",
    "blk2bb = {} # 基本块b：b对应的BasicBlock（b为完整名称）\n",
    "\n",
    "for f in tqdm(func2blk):\n",
    "    assert len(func2blk[f]) > 0\n",
    "    assert f not in func2bb\n",
    "    entryBB = BasicBlock(func2blk[f][0])\n",
    "    entryBB.calls = blk2call.get('|'.join([f, entryBB.name]), [])\n",
    "    func2bb[f] = entryBB\n",
    "    \n",
    "    bbName2BB = {}\n",
    "    bbName2BB[entryBB.name] = entryBB\n",
    "    \n",
    "    def constructCFG(BB):\n",
    "        bbFullName = f + '|' + BB.name\n",
    "        \n",
    "        for succName in blk2succ.get(bbFullName, []):\n",
    "            if succName not in bbName2BB:\n",
    "                tmpBB = BasicBlock(succName)\n",
    "                tmpBB.calls = blk2call.get('|'.join([f, tmpBB.name]), [])\n",
    "                bbName2BB[succName] = tmpBB\n",
    "                constructCFG(bbName2BB[succName]) # 递归构造\n",
    "            BB.addSuccessor(bbName2BB[succName])\n",
    "        \n",
    "        assert bbFullName not in blk2bb\n",
    "        blk2bb[bbFullName] = BB\n",
    "    \n",
    "    constructCFG(entryBB)"
   ]
  },
  {
   "cell_type": "code",
   "execution_count": 149,
   "metadata": {},
   "outputs": [],
   "source": [
    "# import matplotlib.pyplot as plt\n",
    "# from collections import Counter\n",
    "# with plt.style.context(['science', 'no-latex']):\n",
    "#     a = Counter([len(func2call[f]) for f in func2call])\n",
    "#     plt.bar(a.keys(), a.values())\n",
    "#     plt.show()"
   ]
  },
  {
   "cell_type": "code",
   "execution_count": 150,
   "metadata": {},
   "outputs": [
    {
     "name": "stdout",
     "output_type": "stream",
     "text": [
      "[+] 8397 3461 4936\n"
     ]
    }
   ],
   "source": [
    "nonCallFuncSet = funcSet - set(func2call) # 不调用其它函数的函数集合\n",
    "print('[+] {} {} {}'.format(len(funcSet), len(func2call), len(nonCallFuncSet)))"
   ]
  },
  {
   "cell_type": "code",
   "execution_count": 151,
   "metadata": {},
   "outputs": [],
   "source": [
    "func2cov = {} # 函数f：从f出发可以到达的最大IR基本块数量\n",
    "for i,nf in enumerate(nonCallFuncSet): # 加入IR叶函数\n",
    "    assert nf not in func2cov\n",
    "    func2cov[nf] = len(func2blk.get(nf, []))"
   ]
  },
  {
   "cell_type": "code",
   "execution_count": 152,
   "metadata": {},
   "outputs": [],
   "source": [
    "def getFuncCov(f, s):\n",
    "    if f not in s:\n",
    "        s.add(f)\n",
    "        for cf in func2call.get(f, []):\n",
    "            m = f.split('|')[0]\n",
    "            if cf in mod2func[m]:\n",
    "                getFuncCov(m + '|' + cf, s)\n",
    "            else:\n",
    "                raise Exception('[!] Invoke External Functions.')"
   ]
  },
  {
   "cell_type": "code",
   "execution_count": 153,
   "metadata": {},
   "outputs": [
    {
     "name": "stderr",
     "output_type": "stream",
     "text": [
      "100%|██████████| 3461/3461 [00:00<00:00, 38366.56it/s]\n"
     ]
    }
   ],
   "source": [
    "for f in tqdm(func2call):\n",
    "    tmps = set()\n",
    "    getFuncCov(f, tmps)\n",
    "    func2cov[f] = sum([len(func2blk.get(f, [])) for f in tmps])"
   ]
  },
  {
   "cell_type": "code",
   "execution_count": 154,
   "metadata": {},
   "outputs": [
    {
     "data": {
      "text/plain": [
       "['epsimage.cpp|_ZN5Exiv28EpsImage12readMetadataEv',\n",
       " 'epsimage.cpp|_ZN5Exiv28EpsImage13writeMetadataEv',\n",
       " 'epsimage.cpp|_ZN12_GLOBAL__N_120readWriteEpsMetadataERN5Exiv27BasicIoERNSt7__cxx1112basic_stringIcSt11char_traitsIcESaIcEEERSt6vectorINS0_13NativePreviewESaISB_EEb',\n",
       " 'actions.cpp|_ZN6Action5Print12printSummaryEv',\n",
       " 'exiv2.cpp|main',\n",
       " 'rafimage.cpp|_ZN5Exiv28RafImage14printStructureERSoNS_20PrintStructureOptionEi',\n",
       " 'exiv2.cpp|_ZN6Params6optionEiRKNSt7__cxx1112basic_stringIcSt11char_traitsIcESaIcEEEi',\n",
       " 'http.cpp|_ZN5Exiv24httpERSt3mapINSt7__cxx1112basic_stringIcSt11char_traitsIcESaIcEEES6_St4lessIS6_ESaISt4pairIKS6_S6_EEESE_RS6_',\n",
       " 'jpgimage.cpp|_ZN5Exiv28JpegBase15doWriteMetadataERNS_7BasicIoE',\n",
       " 'actions.cpp|_ZN6Action6Rename3runERKNSt7__cxx1112basic_stringIcSt11char_traitsIcESaIcEEE']"
      ]
     },
     "execution_count": 154,
     "metadata": {},
     "output_type": "execute_result"
    }
   ],
   "source": [
    "sorted(func2cov, key=lambda x : func2cov[x], reverse=True)[:10]"
   ]
  },
  {
   "cell_type": "markdown",
   "metadata": {},
   "source": [
    "分析运行时日志`RUNTIME_LOG`"
   ]
  },
  {
   "cell_type": "code",
   "execution_count": 155,
   "metadata": {},
   "outputs": [],
   "source": [
    "RUNTIME_LOG = r'/data2/zhangzheng1/data/code/exiv2-0.26/PASS_LOG/RUNTIME_LOG'"
   ]
  },
  {
   "cell_type": "code",
   "execution_count": 309,
   "metadata": {},
   "outputs": [
    {
     "name": "stderr",
     "output_type": "stream",
     "text": [
      "100%|██████████| 193262/193262 [00:00<00:00, 299153.31it/s]"
     ]
    },
    {
     "name": "stdout",
     "output_type": "stream",
     "text": [
      "[+] Pass Check, All Runtime Info Fits the Result of Static Analysis.\n",
      "[+] visitedModules: 55/71.\n",
      "[+] visitedFunctions: 388/8397.\n",
      "[+] visitedBlocks: 2544/72820/120103.\n"
     ]
    },
    {
     "name": "stderr",
     "output_type": "stream",
     "text": [
      "\n"
     ]
    }
   ],
   "source": [
    "visitedModules = set() # 所有被访问过的模块\n",
    "visitedFunctions = set() # 所有被访问过的函数\n",
    "visitedBlocks = set() # 所有被访问过的基本块\n",
    "allBlocks = [] # 访问基本块历史记录（顺序保存）\n",
    "blk2PC = {} # 基本块b：本次执行对应的PC（b为完整名称）\n",
    "with open(RUNTIME_LOG, 'r') as fp:\n",
    "    for line in tqdm(fp.readlines()):\n",
    "        line = line.strip()\n",
    "        if '[PC] ' in line:\n",
    "            _, PC, bbGName = line.split(' ')\n",
    "            mn, fn, bn = bbGName.split('|')\n",
    "            assert mn in mod2func\n",
    "            assert '|'.join([mn,fn]) in funcSet\n",
    "            assert '|'.join([mn,fn]) in func2blk, '[!] {} {} {}'.format(line, fn, bn)\n",
    "            assert bn in func2blk['|'.join([mn,fn])], '[!] {} {} {}'.format(line, fn, bn)\n",
    "            visitedModules.add(mn) # visitedModules\n",
    "            visitedFunctions.add('|'.join([mn,fn])) # visitedFunctions\n",
    "            visitedBlocks.add(bbGName) # visitedBlocks\n",
    "            allBlocks.append(bbGName)\n",
    "            assert bbGName not in blk2PC or blk2PC[bbGName] == PC, '[+] {}'.format(line)\n",
    "            blk2PC[bbGName] = PC\n",
    "        elif '[STRCMP] ' in line:\n",
    "            pass\n",
    "        elif '[CMP] ' in line:\n",
    "            pass\n",
    "        elif '[SWITCH] ' in line:\n",
    "            pass\n",
    "        else:\n",
    "            raise Exception('[!] {}'.format(line))\n",
    "    else:\n",
    "        print('[+] Pass Check, All Runtime Info Fits the Result of Static Analysis.')\n",
    "        print('[+] visitedModules: {}/{}.'.format(len(visitedModules), len(modSet)))\n",
    "        print('[+] visitedFunctions: {}/{}.'.format(len(visitedFunctions), len(funcSet)))\n",
    "        print('[+] visitedBlocks: {}/{}/{}.'.format(len(visitedBlocks), len(blkSet), len(allBlocks)))"
   ]
  },
  {
   "cell_type": "code",
   "execution_count": 183,
   "metadata": {},
   "outputs": [
    {
     "data": {
      "image/png": "[encoded data removed]",
      "text/plain": [
       "<Figure size 1440x360 with 2 Axes>"
      ]
     },
     "metadata": {
      "needs_background": "light"
     },
     "output_type": "display_data"
    }
   ],
   "source": [
    "import matplotlib.pyplot as plt\n",
    "from collections import Counter\n",
    "plt.figure(figsize=(20, 5))\n",
    "\n",
    "plt.subplot(1,2,1)\n",
    "data = Counter([len(blk2succ[blk]) for blk in blk2succ])\n",
    "# with plt.style.context(['science', 'no-latex']):\n",
    "plt.title('blk2succ')\n",
    "plt.bar(data.keys(), data.values())\n",
    "\n",
    "plt.subplot(1,2,2)\n",
    "data = Counter([len(func2blk[f]) for f in func2blk])\n",
    "# with plt.style.context(['science', 'no-latex']):\n",
    "plt.title('func2blk')\n",
    "plt.bar(data.keys(), data.values())\n",
    "\n",
    "plt.show()"
   ]
  },
  {
   "cell_type": "code",
   "execution_count": 158,
   "metadata": {},
   "outputs": [
    {
     "name": "stdout",
     "output_type": "stream",
     "text": [
      "exiv2.cpp|_ZN6Params6optionEiRKNSt7__cxx1112basic_stringIcSt11char_traitsIcESaIcEEEi|entry\n",
      "['sw.default', 'sw.bb', 'sw.bb2', 'sw.bb3', 'sw.bb4', 'sw.bb5', 'sw.bb6', 'sw.bb7', 'sw.bb8', 'sw.bb9', 'sw.bb10', 'sw.bb13', 'sw.bb15', 'sw.bb17', 'sw.bb19', 'sw.bb21', 'sw.bb23', 'sw.bb25', 'sw.bb27', 'sw.bb29', 'sw.bb32', 'sw.bb35', 'sw.bb37', 'sw.bb39', 'sw.bb41', 'sw.bb43', 'sw.bb45', 'sw.bb47', 'sw.bb49', 'sw.bb51', 'sw.bb53', 'sw.bb55', 'sw.bb57', 'sw.bb68']\n"
     ]
    }
   ],
   "source": [
    "for blk in blk2succ:\n",
    "    if len(blk2succ[blk]) == max(data):\n",
    "        print(blk)\n",
    "        print(blk2succ[blk])\n",
    "        break"
   ]
  },
  {
   "cell_type": "markdown",
   "metadata": {},
   "source": [
    "使用`pygraphviz`绘制CFG"
   ]
  },
  {
   "cell_type": "code",
   "execution_count": 266,
   "metadata": {},
   "outputs": [
    {
     "name": "stdout",
     "output_type": "stream",
     "text": [
      "[+] tiffvisitor.cpp|_ZN5Exiv28Internal10TiffReader13readTiffEntryEPNS0_13TiffEntryBaseE 197\n"
     ]
    }
   ],
   "source": [
    "import random\n",
    "testFunc = random.sample(visitedFunctions, 1)[0]\n",
    "while len(func2blk[testFunc]) < 100:\n",
    "    testFunc = random.sample(visitedFunctions, 1)[0]\n",
    "    \n",
    "print('[+] {} {}'.format(testFunc, len(func2blk[testFunc])))\n",
    "testEntry = func2bb[testFunc]"
   ]
  },
  {
   "cell_type": "code",
   "execution_count": 298,
   "metadata": {},
   "outputs": [
    {
     "name": "stdout",
     "output_type": "stream",
     "text": [
      "[+] Construct finished, begin drawing...\n"
     ]
    }
   ],
   "source": [
    "import pygraphviz as pgv\n",
    "A = pgv.AGraph(directed=True)\n",
    "A.graph_attr['label'] = testFunc\n",
    "\n",
    "def createNode(funcName, blkName):\n",
    "    blkFullName = '|'.join([funcName, blkName])\n",
    "    if blkFullName in visitedBlocks:\n",
    "        A.add_node(blkName, shape='box', color='red')\n",
    "    else:\n",
    "        A.add_node(blkName, shape='box')\n",
    "    \n",
    "    # Block中的Call调用\n",
    "#     for call in blk2call.get(blkFullName, []):\n",
    "#         if call not in A.nodes():\n",
    "#             A.add_node(call, color='blue')\n",
    "#         A.add_edge(blkName, call)\n",
    "\n",
    "\n",
    "q = [testEntry]\n",
    "s = set()\n",
    "s.add(testEntry.name)\n",
    "\n",
    "while q:\n",
    "    n = q.pop(0)\n",
    "    if n.name not in A.nodes():\n",
    "        createNode(testFunc, n.name)\n",
    "\n",
    "    for succ in n.successors:\n",
    "        if succ.name not in A.nodes():\n",
    "            createNode(testFunc, succ.name)\n",
    "        \n",
    "        A.add_edge(n.name, succ.name)\n",
    "        \n",
    "        if succ.name not in s: # 未遍历该BB\n",
    "            s.add(succ.name)\n",
    "            q.append(succ)\n",
    "\n",
    "print('[+] Construct finished, begin drawing...')\n",
    "            \n",
    "A.layout('dot') # 耗时严重\n",
    "A.draw('a.png')"
   ]
  },
  {
   "cell_type": "markdown",
   "metadata": {},
   "source": [
    "分析`allBlocks`中前部分记录successors\n",
    "- 绘制（涉及到的）全部函数\n",
    "- 根据`RUNTIME_LOG`添加连线"
   ]
  },
  {
   "cell_type": "code",
   "execution_count": 161,
   "metadata": {},
   "outputs": [
    {
     "data": {
      "text/plain": [
       "163"
      ]
     },
     "execution_count": 161,
     "metadata": {},
     "output_type": "execute_result"
    }
   ],
   "source": [
    "len(set(allBlocks[:2000]))"
   ]
  },
  {
   "cell_type": "code",
   "execution_count": 268,
   "metadata": {},
   "outputs": [],
   "source": [
    "fs = set() # 所有函数\n",
    "callBetweenDiffFuncs = [] # 不同函数间基本块的调用\n",
    "\n",
    "lastFunc = None\n",
    "lastBlk = None\n",
    "entryFunc = None\n",
    "\n",
    "for line in allBlocks[:5000]:\n",
    "    m, f, b = line.split('|')\n",
    "    curFunc = '|'.join([m, f])\n",
    "    curBlk = line\n",
    "    fs.add(curFunc)\n",
    "    if not entryFunc:\n",
    "        entryFunc = curFunc\n",
    "    \n",
    "    if lastFunc:\n",
    "        if curFunc != lastFunc:\n",
    "            callBetweenDiffFuncs.append((lastBlk, curBlk))\n",
    "    \n",
    "    lastFunc = curFunc\n",
    "    lastBlk = curBlk"
   ]
  },
  {
   "cell_type": "code",
   "execution_count": 269,
   "metadata": {},
   "outputs": [],
   "source": [
    "A = pgv.AGraph(directed=True, strict=False)\n",
    "for l,c in callBetweenDiffFuncs:\n",
    "    ln = l.rsplit('|', 1)[0]\n",
    "    cn = c.rsplit('|', 1)[0]\n",
    "    if (ln, cn) not in A.edges():\n",
    "        A.add_edge(ln, cn)\n",
    "A.layout('dot')\n",
    "A.draw('b.png')"
   ]
  },
  {
   "cell_type": "code",
   "execution_count": 270,
   "metadata": {},
   "outputs": [
    {
     "data": {
      "text/plain": [
       "[('basicio.cpp|_GLOBAL__sub_I_basicio.cpp|entry',\n",
       "  'bmpimage.cpp|_GLOBAL__sub_I_bmpimage.cpp|entry'),\n",
       " ('bmpimage.cpp|_GLOBAL__sub_I_bmpimage.cpp|entry',\n",
       "  'canonmn.cpp|_GLOBAL__sub_I_canonmn.cpp|entry'),\n",
       " ('canonmn.cpp|_GLOBAL__sub_I_canonmn.cpp|entry',\n",
       "  'tags.cpp|_ZN5Exiv27TagInfoC2EtPKcS2_S2_iiNS_6TypeIdEsPFRSoS4_RKNS_5ValueEPKNS_8ExifDataEE|entry'),\n",
       " ('tags.cpp|_ZN5Exiv27TagInfoC2EtPKcS2_S2_iiNS_6TypeIdEsPFRSoS4_RKNS_5ValueEPKNS_8ExifDataEE|entry',\n",
       "  'casiomn.cpp|_GLOBAL__sub_I_casiomn.cpp|entry'),\n",
       " ('casiomn.cpp|_GLOBAL__sub_I_casiomn.cpp|entry',\n",
       "  'tags.cpp|_ZN5Exiv27TagInfoC2EtPKcS2_S2_iiNS_6TypeIdEsPFRSoS4_RKNS_5ValueEPKNS_8ExifDataEE|entry')]"
      ]
     },
     "execution_count": 270,
     "metadata": {},
     "output_type": "execute_result"
    }
   ],
   "source": [
    "callBetweenDiffFuncs[:5]"
   ]
  },
  {
   "cell_type": "code",
   "execution_count": 275,
   "metadata": {},
   "outputs": [
    {
     "name": "stdout",
     "output_type": "stream",
     "text": [
      "[+] 434 80 50\n"
     ]
    }
   ],
   "source": [
    "acnt, bcnt, ccnt = 0, 0, 0\n",
    "\n",
    "for l,c in callBetweenDiffFuncs:\n",
    "    if l in blk2call:\n",
    "        cn = c.rsplit('|')[1]\n",
    "        if cn in blk2call[l]:\n",
    "            ccnt += 1\n",
    "        else:\n",
    "            bcnt += 1\n",
    "    else:\n",
    "        acnt += 1\n",
    "\n",
    "print('[+] {} {} {}'.format(acnt, bcnt, ccnt))"
   ]
  },
  {
   "cell_type": "markdown",
   "metadata": {},
   "source": [
    "写入数据到`csv`用于`Neo4j`批量导入"
   ]
  },
  {
   "cell_type": "code",
   "execution_count": 326,
   "metadata": {},
   "outputs": [
    {
     "name": "stdout",
     "output_type": "stream",
     "text": [
      "CPU times: user 532 ms, sys: 40 ms, total: 572 ms\n",
      "Wall time: 573 ms\n"
     ]
    }
   ],
   "source": [
    "%%time\n",
    "\n",
    "# PROJECT\n",
    "projectId = 'p0'\n",
    "projectName = 'exiv2'\n",
    "projectVersion = '0.26'\n",
    "\n",
    "relationshipFp = open('./neo4j-data/relationship.csv', 'w')\n",
    "relationshipFp.write(':START_ID,:END_ID,:TYPE\\n')\n",
    "\n",
    "with open('./neo4j-data/project.csv', 'w') as fp:\n",
    "    fp.write('projectId:ID,name,version,:LABEL\\n')\n",
    "    fp.write('{},{},{},Project\\n'.format(projectId, projectName, projectVersion))\n",
    "\n",
    "module2Id = {}    \n",
    "\n",
    "# MODULE\n",
    "with open('./neo4j-data/module.csv', 'w') as fp:\n",
    "    fp.write('moduleId:ID,name,inProject,:LABEL\\n')\n",
    "    moduleId = 0\n",
    "    for m in mod2func:\n",
    "        module2Id[m] = moduleId\n",
    "        fp.write('m{},{},{},Module\\n'.format(moduleId, m, projectName))\n",
    "        relationshipFp.write('p0,m{},hasModule\\n'.format(moduleId))\n",
    "        moduleId += 1\n",
    "\n",
    "function2Id = {}\n",
    "        \n",
    "# FUNCTION\n",
    "with open('./neo4j-data/function.csv', 'w') as fp:\n",
    "    fp.write('functionId:ID,name,inProject,inModule,lineNum:int,:LABEL\\n')\n",
    "    functionId = 0\n",
    "    for m in mod2func:\n",
    "        moduleId = module2Id[m]\n",
    "        for f in mod2func[m]:\n",
    "            funcFullName = '|'.join([m, f])\n",
    "            function2Id[funcFullName] = functionId\n",
    "            fp.write('f{},{},{},{},{},Function\\n'.format(functionId, f, projectName, m, func2loc[funcFullName]))\n",
    "            relationshipFp.write('m{},f{},hasFunction\\n'.format(moduleId, functionId))\n",
    "            functionId += 1\n",
    "\n",
    "basicblock2Id = {}\n",
    "            \n",
    "# BASICBLOCK\n",
    "with open('./neo4j-data/basicblock.csv', 'w') as fp:\n",
    "    fp.write('basicblockId:ID,name,inProject,inModule,inFunction,sourceLoc,:LABEL\\n')\n",
    "    basicblockId = 0\n",
    "    for ff in func2blk:\n",
    "        m, f = ff.split('|')\n",
    "        isEntry = True\n",
    "        functionId = function2Id[ff]\n",
    "        for bb in func2blk[ff]:\n",
    "            bbFullName = '|'.join([m, f, bb])\n",
    "            basicblock2Id[bbFullName] = basicblockId\n",
    "            sourceLoc = ';'.join(blk2IRs[bbFullName])\n",
    "            fp.write('bb{},{},{},{},{},{},BasicBlock\\n'.format(basicblockId, bb, projectName, m, f, sourceLoc))\n",
    "            if isEntry:\n",
    "                relationshipFp.write('f{},bb{},hasEntryBasicBlock\\n'.format(functionId, basicblockId))\n",
    "                isEntry = False\n",
    "            basicblockId += 1\n",
    "\n",
    "# CFG\n",
    "for bb in blk2succ:\n",
    "    funcFullName = bb.rsplit('|', 1)[0]\n",
    "    fromId = basicblock2Id[bb]\n",
    "    for succ in blk2succ[bb]:\n",
    "        toId = basicblock2Id['|'.join([funcFullName, succ])]\n",
    "        relationshipFp.write('bb{},bb{},hasSuccessorBasicBlock\\n'.format(fromId, toId))\n",
    "\n",
    "relationshipFp.close()\n",
    "\n",
    "# neo4j-admin import --database=exiv2 --nodes=project.csv --nodes=function.csv --nodes=module.csv --nodes=basicblock.csv --relationships=relationship.csv\n",
    "# IMPORT DONE in 4s 930ms.\n",
    "# Imported:\n",
    "#   81289 nodes\n",
    "#   118535 relationships\n",
    "#   479121 properties\n",
    "# Peak memory usage: 1.032GiB"
   ]
  },
  {
   "cell_type": "code",
   "execution_count": 339,
   "metadata": {},
   "outputs": [
    {
     "name": "stdout",
     "output_type": "stream",
     "text": [
      "CPU times: user 524 ms, sys: 52 ms, total: 576 ms\n",
      "Wall time: 575 ms\n"
     ]
    }
   ],
   "source": [
    "%%time\n",
    "# /var/lib/neo4j/import\n",
    "# sed -i '1d' *.csv\n",
    "\n",
    "# :auto USING PERIODIC COMMIT 10000 LOAD CSV FROM \"file:///project.csv\" AS line CREATE (:Project { id: line[0], name: line[1] })\n",
    "# CREATE INDEX FOR (n:Project) ON (n.id)\n",
    "# :auto USING PERIODIC COMMIT 10000 LOAD CSV FROM \"file:///module.csv\" AS line CREATE (:Module { id: line[0], name: line[1] })\n",
    "# CREATE INDEX FOR (n:Module) ON (n.id)\n",
    "# :auto USING PERIODIC COMMIT 10000 LOAD CSV FROM \"file:///function.csv\" AS line CREATE (:Function { id: line[0], name: line[1], lineNum: toInteger(line[2]) })\n",
    "# CREATE INDEX FOR (n:Function) ON (n.id)\n",
    "# :auto USING PERIODIC COMMIT 10000 LOAD CSV FROM \"file:///basicblock.csv\" AS line CREATE (:BasicBlock { id: line[0], name: line[1], sourceLoc: line[2] })\n",
    "# CREATE INDEX FOR (n:BasicBlock) ON (n.id)\n",
    "\n",
    "# PROJECT\n",
    "projectId = 'p0'\n",
    "projectName = 'exiv2'\n",
    "projectVersion = '0.26'\n",
    "\n",
    "with open('./neo4j-data/load_project.csv', 'w') as fp:\n",
    "    fp.write('{},{},{},Project\\n'.format(projectId, projectName, projectVersion))\n",
    "\n",
    "module2Id = {}\n",
    "p2m = open('./neo4j-data/load_p2m.csv', 'w')\n",
    "\n",
    "# MODULE\n",
    "with open('./neo4j-data/load_module.csv', 'w') as fp:\n",
    "    moduleId = 0\n",
    "    for m in mod2func:\n",
    "        module2Id[m] = moduleId\n",
    "        fp.write('m{},{}\\n'.format(moduleId, m))\n",
    "        p2m.write('p0,m{}\\n'.format(moduleId))\n",
    "        moduleId += 1\n",
    "p2m.close()\n",
    "\n",
    "function2Id = {}\n",
    "m2f = open('./neo4j-data/load_m2f.csv', 'w')\n",
    "        \n",
    "# FUNCTION\n",
    "with open('./neo4j-data/load_function.csv', 'w') as fp:\n",
    "    functionId = 0\n",
    "    for m in mod2func:\n",
    "        moduleId = module2Id[m]\n",
    "        for f in mod2func[m]:\n",
    "            funcFullName = '|'.join([m, f])\n",
    "            function2Id[funcFullName] = functionId\n",
    "            fp.write('f{},{},{}\\n'.format(functionId, f, func2loc[funcFullName]))\n",
    "            m2f.write('m{},f{}\\n'.format(moduleId, functionId))\n",
    "            functionId += 1\n",
    "m2f.close()\n",
    "\n",
    "basicblock2Id = {}\n",
    "f2bb = open('./neo4j-data/load_f2bb.csv', 'w')\n",
    "            \n",
    "# BASICBLOCK\n",
    "with open('./neo4j-data/load_basicblock.csv', 'w') as fp:\n",
    "    basicblockId = 0\n",
    "    for ff in func2blk:\n",
    "        m, f = ff.split('|')\n",
    "        isEntry = True\n",
    "        functionId = function2Id[ff]\n",
    "        for bb in func2blk[ff]:\n",
    "            bbFullName = '|'.join([m, f, bb])\n",
    "            basicblock2Id[bbFullName] = basicblockId\n",
    "            sourceLoc = ';'.join(blk2IRs[bbFullName])\n",
    "            fp.write('bb{},{},{}\\n'.format(basicblockId, bb, sourceLoc))\n",
    "            if isEntry:\n",
    "                f2bb.write('f{},bb{}\\n'.format(functionId, basicblockId))\n",
    "                isEntry = False\n",
    "            basicblockId += 1\n",
    "f2bb.close()\n",
    "\n",
    "# CFG\n",
    "bb2succ = open('./neo4j-data/load_bb2succ.csv', 'w')\n",
    "for bb in blk2succ:\n",
    "    funcFullName = bb.rsplit('|', 1)[0]\n",
    "    fromId = basicblock2Id[bb]\n",
    "    for succ in blk2succ[bb]:\n",
    "        toId = basicblock2Id['|'.join([funcFullName, succ])]\n",
    "        bb2succ.write('bb{},bb{}\\n'.format(fromId, toId))\n",
    "bb2succ.close()"
   ]
  },
  {
   "cell_type": "code",
   "execution_count": 330,
   "metadata": {},
   "outputs": [],
   "source": [
    "import base64\n",
    "with open('./PASSWORD', 'r') as fp:\n",
    "    data = fp.read().strip().replace('\\n', '')\n",
    "    passwd = base64.b64decode(data).decode()\n",
    "\n",
    "from py2neo import Graph\n",
    "graph = Graph(\"bolt://127.0.0.1:7687\", username=\"neo4j\", password=passwd)"
   ]
  },
  {
   "cell_type": "code",
   "execution_count": 337,
   "metadata": {},
   "outputs": [
    {
     "name": "stdout",
     "output_type": "stream",
     "text": [
      "CPU times: user 4 ms, sys: 0 ns, total: 4 ms\n",
      "Wall time: 6.78 ms\n"
     ]
    },
    {
     "data": {
      "text/plain": [
       "<py2neo.database.Cursor at 0x7f28a788cc10>"
      ]
     },
     "execution_count": 337,
     "metadata": {},
     "output_type": "execute_result"
    }
   ],
   "source": [
    "%%time\n",
    "graph.run('MATCH ()-[r]->() DELETE r')\n",
    "graph.run('MATCH (n) DELETE n')\n",
    "# graph.run(\"DROP INDEX PID\")\n",
    "# graph.run('DROP INDEX NID')\n",
    "# graph.run('DROP INDEX FID')\n",
    "# graph.run('DROP INDEX BBID')"
   ]
  },
  {
   "cell_type": "code",
   "execution_count": 338,
   "metadata": {},
   "outputs": [
    {
     "name": "stdout",
     "output_type": "stream",
     "text": [
      "CPU times: user 8 ms, sys: 0 ns, total: 8 ms\n",
      "Wall time: 2.14 s\n"
     ]
    },
    {
     "data": {
      "text/plain": [
       "<py2neo.database.Cursor at 0x7f28a7795190>"
      ]
     },
     "execution_count": 338,
     "metadata": {},
     "output_type": "execute_result"
    }
   ],
   "source": [
    "%%time\n",
    "graph.run('USING PERIODIC COMMIT 10000 LOAD CSV FROM \"file:///load_project.csv\" AS line CREATE (:Project { id: line[0], name: line[1] })')\n",
    "graph.run('CREATE INDEX PID FOR (n:Project) ON (n.id)')\n",
    "graph.run('USING PERIODIC COMMIT 10000 LOAD CSV FROM \"file:///load_module.csv\" AS line CREATE (:Module { id: line[0], name: line[1] })')\n",
    "graph.run('CREATE INDEX NID FOR (n:Module) ON (n.id)')\n",
    "graph.run('USING PERIODIC COMMIT 10000 LOAD CSV FROM \"file:///load_function.csv\" AS line CREATE (:Function { id: line[0], name: line[1], lineNum: toInteger(line[2]) })')\n",
    "graph.run('CREATE INDEX FID FOR (n:Function) ON (n.id)')\n",
    "graph.run('USING PERIODIC COMMIT 10000 LOAD CSV FROM \"file:///load_basicblock.csv\" AS line CREATE (:BasicBlock { id: line[0], name: line[1], sourceLoc: line[2] })')\n",
    "graph.run('CREATE INDEX BBID FOR (n:BasicBlock) ON (n.id)')"
   ]
  },
  {
   "cell_type": "code",
   "execution_count": null,
   "metadata": {},
   "outputs": [],
   "source": [
    "%%time\n",
    "graph.run('USING PERIODIC COMMIT 10000 LOAD CSV FROM \"file:///load_p2m.csv\" AS line MATCH (p:Project { id:line[0] }),(m:Module { id:line[1] }) MERGE (p)-[r:hasModule]->(m)')\n",
    "graph.run('USING PERIODIC COMMIT 10000 LOAD CSV FROM \"file:///load_m2f.csv\" AS line MATCH (m:Module { id:line[0] }),(f:Function { id:line[1] }) MERGE (m)-[r:hasFunction]->(f)')\n",
    "graph.run('USING PERIODIC COMMIT 10000 LOAD CSV FROM \"file:///load_f2bb.csv\" AS line MATCH (f:Function { id:line[0] }),(bb:BasicBlock { id:line[1] }) MERGE (f)-[r:hasEntryBasicBlock]->(bb)')\n",
    "graph.run('USING PERIODIC COMMIT 10000 LOAD CSV FROM \"file:///load_bb2succ.csv\" AS line MATCH (bb:BasicBlock { id:line[0] }),(succ:BasicBlock { id:line[1] }) MERGE (bb)-[r:hasSuccessorBasicBlock]->(BasicBlock)')"
   ]
  }
 ],
 "metadata": {
  "kernelspec": {
   "display_name": "Python 3",
   "language": "python",
   "name": "python3"
  },
  "language_info": {
   "codemirror_mode": {
    "name": "ipython",
    "version": 3
   },
   "file_extension": ".py",
   "mimetype": "text/x-python",
   "name": "python",
   "nbconvert_exporter": "python",
   "pygments_lexer": "ipython3",
   "version": "3.7.6"
  }
 },
 "nbformat": 4,
 "nbformat_minor": 4
}
