{
 "cells": [
  {
   "cell_type": "code",
   "execution_count": 390,
   "metadata": {},
   "outputs": [],
   "source": [
    "import os\n",
    "from tqdm import tqdm"
   ]
  },
  {
   "cell_type": "code",
   "execution_count": 391,
   "metadata": {},
   "outputs": [],
   "source": [
    "PASS_LOG = r'/data2/zhangzheng1/data/code/exiv2-0.26/PASS_LOG'\n",
    "CMP_CALLS = [\"strcmp\", \"strncmp\", \"strcasecmp\", \"strncasecmp\", \"memcmp\"]"
   ]
  },
  {
   "cell_type": "code",
   "execution_count": 392,
   "metadata": {},
   "outputs": [
    {
     "name": "stderr",
     "output_type": "stream",
     "text": [
      "100%|██████████| 72/72 [00:00<00:00, 161.56it/s]\n"
     ]
    }
   ],
   "source": [
    "funcSet = set() # 全部函数\n",
    "mod2func = {} # 模块m: m中的全部函数\n",
    "func2blk = {} # 函数f：f的全部IR基本块 1:n（f为完整名称）\n",
    "blk2call = {} # 函数f + 基本块b：b中调用的全部函数 1:n（b为完整名称）\n",
    "blk2succ = {} # 基本块b：b所有的后续基本块（b为完整名称）\n",
    "func2call = {} # 函数f：f调用的全部函数 1:n（f为完整名称）\n",
    "func2cmp = {} # 函数f：f调用的全部cmp函数 1:n（f为完整名称）\n",
    "curFunc = None\n",
    "curBB = None\n",
    "isInHis = False # 当前函数是否已在funcSet中（防止重复处理）\n",
    "for f in tqdm(os.listdir(PASS_LOG)):\n",
    "    if f == 'RUNTIME_LOG':\n",
    "        continue\n",
    "    with open(os.path.join(PASS_LOG, f), 'r') as fp:\n",
    "        m = f[:-4]\n",
    "        assert m not in mod2func, '[!] {} {}'.format(f, m)\n",
    "        mod2func[m] = []\n",
    "        lines = fp.readlines()\n",
    "        for line in lines:\n",
    "            line = line[:-1] # 去掉末尾的\\n\n",
    "            if '[F] ' in line:\n",
    "                curFunc = m + '|' + line[4:] # moduleName|funcName\n",
    "                if curFunc not in funcSet:\n",
    "                    funcSet.add(curFunc) # funcSet\n",
    "                    mod2func[m].append(line[4:]) # mod2func\n",
    "                else:\n",
    "                    raise Exception(\"[!] {}\".format(line)) # 同文件中函数重名？\n",
    "            elif '[BB] ' in line:\n",
    "                bbName = line.split(' ')[-1].split('|')[0]\n",
    "                if curFunc not in func2blk:\n",
    "                    func2blk[curFunc] = []\n",
    "                func2blk[curFunc].append(bbName) # func2blk\n",
    "                curBB = curFunc + '|' + bbName\n",
    "                assert curBB not in blk2succ, '[!] {} {}'.format(curBB, line)\n",
    "                blk2succ[curBB] = line.split(' ')[-1].split('|')[1:] # blk2succ\n",
    "            elif '[BBC] ' in line:\n",
    "                bbCallFuncName = line[6:]\n",
    "                if curBB not in blk2call:\n",
    "                    blk2call[curBB] = []\n",
    "                blk2call[curBB].append(bbCallFuncName) # blk2call\n",
    "                if curFunc not in func2call:\n",
    "                    func2call[curFunc] = []\n",
    "                func2call[curFunc].append(bbCallFuncName) # func2call\n",
    "            elif any([n in line for n in CMP_CALLS]):\n",
    "                if curFunc not in func2cmp:\n",
    "                    func2cmp[curFunc] = []\n",
    "                func2cmp[curFunc].append(line) # func2cmp\n",
    "            else:\n",
    "#                 raise Exception(\"[!] {}\".format(line))\n",
    "                print(\"[!] {} {} {} {}\".format(f, curFunc, curBB, line))"
   ]
  },
  {
   "cell_type": "code",
   "execution_count": 393,
   "metadata": {},
   "outputs": [],
   "source": [
    "# import matplotlib.pyplot as plt\n",
    "# from collections import Counter\n",
    "# with plt.style.context(['science', 'no-latex']):\n",
    "#     a = Counter([len(func2call[f]) for f in func2call])\n",
    "#     plt.bar(a.keys(), a.values())\n",
    "#     plt.show()"
   ]
  },
  {
   "cell_type": "code",
   "execution_count": 394,
   "metadata": {},
   "outputs": [
    {
     "name": "stdout",
     "output_type": "stream",
     "text": [
      "[+] 8397 3461 4936\n"
     ]
    }
   ],
   "source": [
    "nonCallFuncSet = funcSet - set(func2call) # 不调用其它函数的函数集合\n",
    "print('[+] {} {} {}'.format(len(funcSet), len(func2call), len(nonCallFuncSet)))"
   ]
  },
  {
   "cell_type": "code",
   "execution_count": 395,
   "metadata": {},
   "outputs": [],
   "source": [
    "func2cov = {} # 函数f：从f出发可以到达的最大IR基本块数量\n",
    "for i,nf in enumerate(nonCallFuncSet): # 加入IR叶函数\n",
    "    assert nf not in func2cov\n",
    "    func2cov[nf] = len(func2blk.get(nf, []))"
   ]
  },
  {
   "cell_type": "code",
   "execution_count": 396,
   "metadata": {},
   "outputs": [],
   "source": [
    "def getFuncCov(f, s):\n",
    "    if f not in s:\n",
    "        s.add(f)\n",
    "        for cf in func2call.get(f, []):\n",
    "            m = f.split('|')[0]\n",
    "            if cf in mod2func[m]:\n",
    "                getFuncCov(m + '|' + cf, s)\n",
    "            else:\n",
    "                raise Exception('[!] Invoke External Functions.')"
   ]
  },
  {
   "cell_type": "code",
   "execution_count": 397,
   "metadata": {},
   "outputs": [
    {
     "name": "stderr",
     "output_type": "stream",
     "text": [
      "100%|██████████| 3461/3461 [00:00<00:00, 37897.60it/s]\n"
     ]
    }
   ],
   "source": [
    "for f in tqdm(func2call):\n",
    "    tmps = set()\n",
    "    getFuncCov(f, tmps)\n",
    "    func2cov[f] = sum([len(func2blk.get(f, [])) for f in tmps])"
   ]
  },
  {
   "cell_type": "code",
   "execution_count": 398,
   "metadata": {},
   "outputs": [
    {
     "data": {
      "text/plain": [
       "['epsimage.cpp|_ZN5Exiv28EpsImage12readMetadataEv',\n",
       " 'epsimage.cpp|_ZN5Exiv28EpsImage13writeMetadataEv',\n",
       " 'epsimage.cpp|_ZN12_GLOBAL__N_120readWriteEpsMetadataERN5Exiv27BasicIoERNSt7__cxx1112basic_stringIcSt11char_traitsIcESaIcEEERSt6vectorINS0_13NativePreviewESaISB_EEb',\n",
       " 'actions.cpp|_ZN6Action5Print12printSummaryEv',\n",
       " 'exiv2.cpp|main',\n",
       " 'rafimage.cpp|_ZN5Exiv28RafImage14printStructureERSoNS_20PrintStructureOptionEi',\n",
       " 'exiv2.cpp|_ZN6Params6optionEiRKNSt7__cxx1112basic_stringIcSt11char_traitsIcESaIcEEEi',\n",
       " 'http.cpp|_ZN5Exiv24httpERSt3mapINSt7__cxx1112basic_stringIcSt11char_traitsIcESaIcEEES6_St4lessIS6_ESaISt4pairIKS6_S6_EEESE_RS6_',\n",
       " 'jpgimage.cpp|_ZN5Exiv28JpegBase15doWriteMetadataERNS_7BasicIoE',\n",
       " 'actions.cpp|_ZN6Action6Rename3runERKNSt7__cxx1112basic_stringIcSt11char_traitsIcESaIcEEE']"
      ]
     },
     "execution_count": 398,
     "metadata": {},
     "output_type": "execute_result"
    }
   ],
   "source": [
    "sorted(func2cov, key=lambda x : func2cov[x], reverse=True)[:10]"
   ]
  },
  {
   "cell_type": "markdown",
   "metadata": {},
   "source": [
    "分析运行时日志`RUNTIME_LOG`"
   ]
  },
  {
   "cell_type": "code",
   "execution_count": 399,
   "metadata": {},
   "outputs": [],
   "source": [
    "RUNTIME_LOG = r'/data2/zhangzheng1/data/code/exiv2-0.26/PASS_LOG/RUNTIME_LOG'"
   ]
  },
  {
   "cell_type": "code",
   "execution_count": 400,
   "metadata": {},
   "outputs": [
    {
     "ename": "AssertionError",
     "evalue": "[!] [PC] 0x41bc3f actions.cpp|_ZN6Action5Print3runERKNSt7__cxx1112basic_stringIcSt11char_traitsIcESaIcEEE|emptyBB.1 _ZN6Action5Print3runERKNSt7__cxx1112basic_stringIcSt11char_traitsIcESaIcEEE emptyBB.1",
     "output_type": "error",
     "traceback": [
      "\u001b[0;31m---------------------------------------------------------------------------\u001b[0m",
      "\u001b[0;31mAssertionError\u001b[0m                            Traceback (most recent call last)",
      "\u001b[0;32m<ipython-input-400-5a04fc44e8bb>\u001b[0m in \u001b[0;36m<module>\u001b[0;34m\u001b[0m\n\u001b[1;32m      8\u001b[0m             \u001b[0;32massert\u001b[0m \u001b[0;34m'|'\u001b[0m\u001b[0;34m.\u001b[0m\u001b[0mjoin\u001b[0m\u001b[0;34m(\u001b[0m\u001b[0;34m[\u001b[0m\u001b[0mmn\u001b[0m\u001b[0;34m,\u001b[0m\u001b[0mfn\u001b[0m\u001b[0;34m]\u001b[0m\u001b[0;34m)\u001b[0m \u001b[0;32min\u001b[0m \u001b[0mfuncSet\u001b[0m\u001b[0;34m\u001b[0m\u001b[0;34m\u001b[0m\u001b[0m\n\u001b[1;32m      9\u001b[0m             \u001b[0;32massert\u001b[0m \u001b[0;34m'|'\u001b[0m\u001b[0;34m.\u001b[0m\u001b[0mjoin\u001b[0m\u001b[0;34m(\u001b[0m\u001b[0;34m[\u001b[0m\u001b[0mmn\u001b[0m\u001b[0;34m,\u001b[0m\u001b[0mfn\u001b[0m\u001b[0;34m]\u001b[0m\u001b[0;34m)\u001b[0m \u001b[0;32min\u001b[0m \u001b[0mfunc2blk\u001b[0m\u001b[0;34m,\u001b[0m \u001b[0;34m'[!] {} {} {}'\u001b[0m\u001b[0;34m.\u001b[0m\u001b[0mformat\u001b[0m\u001b[0;34m(\u001b[0m\u001b[0mline\u001b[0m\u001b[0;34m,\u001b[0m \u001b[0mfn\u001b[0m\u001b[0;34m,\u001b[0m \u001b[0mbn\u001b[0m\u001b[0;34m)\u001b[0m\u001b[0;34m\u001b[0m\u001b[0;34m\u001b[0m\u001b[0m\n\u001b[0;32m---> 10\u001b[0;31m             \u001b[0;32massert\u001b[0m \u001b[0mbn\u001b[0m \u001b[0;32min\u001b[0m \u001b[0mfunc2blk\u001b[0m\u001b[0;34m[\u001b[0m\u001b[0;34m'|'\u001b[0m\u001b[0;34m.\u001b[0m\u001b[0mjoin\u001b[0m\u001b[0;34m(\u001b[0m\u001b[0;34m[\u001b[0m\u001b[0mmn\u001b[0m\u001b[0;34m,\u001b[0m\u001b[0mfn\u001b[0m\u001b[0;34m]\u001b[0m\u001b[0;34m)\u001b[0m\u001b[0;34m]\u001b[0m\u001b[0;34m,\u001b[0m \u001b[0;34m'[!] {} {} {}'\u001b[0m\u001b[0;34m.\u001b[0m\u001b[0mformat\u001b[0m\u001b[0;34m(\u001b[0m\u001b[0mline\u001b[0m\u001b[0;34m,\u001b[0m \u001b[0mfn\u001b[0m\u001b[0;34m,\u001b[0m \u001b[0mbn\u001b[0m\u001b[0;34m)\u001b[0m\u001b[0;34m\u001b[0m\u001b[0;34m\u001b[0m\u001b[0m\n\u001b[0m\u001b[1;32m     11\u001b[0m         \u001b[0;32melif\u001b[0m \u001b[0;34m'[STRCMP] '\u001b[0m \u001b[0;32min\u001b[0m \u001b[0mline\u001b[0m\u001b[0;34m:\u001b[0m\u001b[0;34m\u001b[0m\u001b[0;34m\u001b[0m\u001b[0m\n\u001b[1;32m     12\u001b[0m             \u001b[0;32mpass\u001b[0m\u001b[0;34m\u001b[0m\u001b[0;34m\u001b[0m\u001b[0m\n",
      "\u001b[0;31mAssertionError\u001b[0m: [!] [PC] 0x41bc3f actions.cpp|_ZN6Action5Print3runERKNSt7__cxx1112basic_stringIcSt11char_traitsIcESaIcEEE|emptyBB.1 _ZN6Action5Print3runERKNSt7__cxx1112basic_stringIcSt11char_traitsIcESaIcEEE emptyBB.1"
     ]
    }
   ],
   "source": [
    "with open(RUNTIME_LOG, 'r') as fp:\n",
    "    for line in fp.readlines():\n",
    "        line = line.strip()\n",
    "        if '[PC] ' in line:\n",
    "            bbGName = line.split(' ')[-1]\n",
    "            mn, fn, bn = bbGName.split('|')\n",
    "            assert mn in mod2func\n",
    "            assert '|'.join([mn,fn]) in funcSet\n",
    "            assert '|'.join([mn,fn]) in func2blk, '[!] {} {} {}'.format(line, fn, bn)\n",
    "            assert bn in func2blk['|'.join([mn,fn])], '[!] {} {} {}'.format(line, fn, bn)\n",
    "        elif '[STRCMP] ' in line:\n",
    "            pass\n",
    "        elif '[CMP] ' in line:\n",
    "            pass\n",
    "        elif '[SWITCH] ' in line:\n",
    "            pass\n",
    "        else:\n",
    "            raise Exception('[!] {}'.format(line))\n",
    "    else:\n",
    "        print('[+] Pass Check, All Runtime Info Fits the Result of Static Analysis.')"
   ]
  },
  {
   "cell_type": "code",
   "execution_count": null,
   "metadata": {},
   "outputs": [],
   "source": []
  }
 ],
 "metadata": {
  "kernelspec": {
   "display_name": "Python 3",
   "language": "python",
   "name": "python3"
  },
  "language_info": {
   "codemirror_mode": {
    "name": "ipython",
    "version": 3
   },
   "file_extension": ".py",
   "mimetype": "text/x-python",
   "name": "python",
   "nbconvert_exporter": "python",
   "pygments_lexer": "ipython3",
   "version": "3.7.6"
  }
 },
 "nbformat": 4,
 "nbformat_minor": 4
}
